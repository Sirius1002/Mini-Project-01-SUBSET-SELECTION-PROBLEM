{
  "nbformat": 4,
  "nbformat_minor": 0,
  "metadata": {
    "colab": {
      "provenance": [],
      "include_colab_link": true
    },
    "kernelspec": {
      "display_name": "Python 3",
      "language": "python",
      "name": "python3"
    },
    "language_info": {
      "codemirror_mode": {
        "name": "ipython",
        "version": 3
      },
      "file_extension": ".py",
      "mimetype": "text/x-python",
      "name": "python",
      "nbconvert_exporter": "python",
      "pygments_lexer": "ipython3",
      "version": "3.8.5"
    }
  },
  "cells": [
    {
      "cell_type": "markdown",
      "metadata": {
        "id": "view-in-github",
        "colab_type": "text"
      },
      "source": [
        "<a href=\"https://colab.research.google.com/github/Sirius1002/Mini-Project-01-SUBSET-SELECTION-PROBLEM/blob/main/_subset_selection_problem_mp01.ipynb\" target=\"_parent\"><img src=\"https://colab.research.google.com/assets/colab-badge.svg\" alt=\"Open In Colab\"/></a>"
      ]
    },
    {
      "cell_type": "markdown",
      "metadata": {
        "id": "7nQSRI4Dim1Y"
      },
      "source": [
        "  ---\n",
        "# **Subset Selection Problem**\n",
        "---\n",
        "####**1. Problem Statement:**\n",
        "Find all the subsets from a set of numbers whose sum is zero.\n",
        "\n",
        "####**Constraint: Subset size must be 5**\n",
        "Set={-12, -3, -6, 7, 2, -2, 6, 3, 9, -7, -5, -8, 1, 11, -9, -4}\n",
        "\n",
        "---"
      ]
    },
    {
      "cell_type": "markdown",
      "metadata": {
        "id": "A30y-VtNim1h"
      },
      "source": [
        "### **1.1 Library inclusion**"
      ]
    },
    {
      "cell_type": "code",
      "metadata": {
        "id": "cF_mSA9Xim1j"
      },
      "source": [
        "import random as r"
      ],
      "execution_count": null,
      "outputs": []
    },
    {
      "cell_type": "markdown",
      "metadata": {
        "id": "UjvBYy0Lim1m"
      },
      "source": [
        "### **1.2 Parameter Setting**"
      ]
    },
    {
      "cell_type": "code",
      "metadata": {
        "id": "NHB2KMhZim1o"
      },
      "source": [
        "Set         = set([-12, -3, -6, 7, 2, -2, 6, 3, 9, -7, -5, -8, 1, 11, -9, -4])\n",
        "SetSize     = 5\n",
        "ResultList  = set()    # Store Result List i.e. list of sets whose sum is zero\n",
        "Iterations  = 1000    # Number of Inerations"
      ],
      "execution_count": null,
      "outputs": []
    },
    {
      "cell_type": "markdown",
      "metadata": {
        "id": "BTLd3s--im1c"
      },
      "source": [
        "### **1.3 Start Program**\n",
        "\n",
        "\n"
      ]
    },
    {
      "cell_type": "code",
      "metadata": {
        "id": "veBU-f21im1x",
        "colab": {
          "base_uri": "https://localhost:8080/"
        },
        "outputId": "152e2aed-626e-4537-97c6-e45c1ef86c87"
      },
      "source": [
        "# Loop till number of Iterations\n",
        "for i in range(Iterations):\n",
        "    # Select number of elements from Set\n",
        "    Chromosome = r.sample(Set,SetSize)\n",
        "    \n",
        "    # Sum the number of elements in the Chromosome\n",
        "    if sum(Chromosome) == 0:\n",
        "        ResultList.add(tuple(Chromosome))"
      ],
      "execution_count": null,
      "outputs": [
        {
          "output_type": "stream",
          "name": "stderr",
          "text": [
            "<ipython-input-3-03544d6be9f3>:4: DeprecationWarning: Sampling from a set deprecated\n",
            "since Python 3.9 and will be removed in a subsequent version.\n",
            "  Chromosome = r.sample(Set,SetSize)\n"
          ]
        }
      ]
    },
    {
      "cell_type": "markdown",
      "metadata": {
        "id": "nRWYsJNVim1z"
      },
      "source": [
        "### **1.4 Print the sets and total count**\n"
      ]
    },
    {
      "cell_type": "code",
      "metadata": {
        "colab": {
          "base_uri": "https://localhost:8080/"
        },
        "id": "41abL1k-im10",
        "scrolled": true,
        "outputId": "bf4f5b1e-d224-4adb-fde6-3f5c0fcc0927"
      },
      "source": [
        "# Print all the sets whose sum is zero\n",
        "for r in ResultList:\n",
        "\tprint (r)\n",
        "\n",
        "# Print total sets\n",
        "print (\"\\nTotal Sets: \", len(ResultList), \"\\n\")"
      ],
      "execution_count": null,
      "outputs": [
        {
          "output_type": "stream",
          "name": "stdout",
          "text": [
            "(11, -5, -2, -6, 2)\n",
            "(-12, -5, 9, 7, 1)\n",
            "(1, 7, -2, -8, 2)\n",
            "(-5, 6, 1, -9, 7)\n",
            "(1, 9, -8, 7, -9)\n",
            "(7, -4, 2, -6, 1)\n",
            "(6, -7, 1, -9, 9)\n",
            "(-5, -2, 9, -3, 1)\n",
            "(7, 1, -7, -12, 11)\n",
            "(-6, 3, -7, 9, 1)\n",
            "(9, 6, -5, -2, -8)\n",
            "(-12, 1, 11, -6, 6)\n",
            "(-7, 7, -12, 1, 11)\n",
            "(9, 2, -9, 6, -8)\n",
            "(3, -2, 1, -4, 2)\n",
            "(11, -7, 6, -8, -2)\n",
            "(-2, 3, -6, 9, -4)\n",
            "(6, -3, -4, 9, -8)\n",
            "(-8, 9, -9, 1, 7)\n",
            "(-7, 9, -8, 11, -5)\n",
            "\n",
            "Total Sets:  20 \n",
            "\n"
          ]
        }
      ]
    },
    {
      "cell_type": "markdown",
      "metadata": {
        "id": "E3BNV7YLim12"
      },
      "source": [
        "---\n",
        "### **1.5 Complete Program**\n",
        "---"
      ]
    },
    {
      "cell_type": "code",
      "metadata": {
        "colab": {
          "base_uri": "https://localhost:8080/"
        },
        "id": "c6KthRB9im14",
        "outputId": "a0d111ce-6909-491f-ef45-6dd09255d4df"
      },
      "source": [
        "#-------------------------------------------------------------\n",
        "# Step 1: Library inclusion                             \n",
        "#-------------------------------------------------------------\n",
        "import random as r\n",
        "\n",
        "\n",
        "#-------------------------------------------------------------\n",
        "# Step 2: Parameter Setting\n",
        "#-------------------------------------------------------------\n",
        "Set         = set([-12, -3, -6, 7, 2, -2, 6, 3, 9, -7, -5, -8, 1, 11, -9, -4])\n",
        "SetSize     = 5\n",
        "ResultList  = set()    # Store Result List i.e. list of sets whose sum is zero\n",
        "Iterations  = 1000   # Number of Inerations\n",
        "\n",
        "\n",
        "#-------------------------------------------------------------\n",
        "# Step3: Start Program\n",
        "#-------------------------------------------------------------\n",
        "\n",
        "# Loop till number of Iterations\n",
        "for i in range(Iterations):\n",
        "    # Select number of elements from Set\n",
        "    Chromosome = r.sample(Set,SetSize)\n",
        "\n",
        "    # Sum the number of elements in the Chromosome\n",
        "    if sum(Chromosome) == 0:\n",
        "        ResultList.add(tuple(Chromosome))\n",
        "\n",
        "# Print all the sets whose sum is zero\n",
        "for r in ResultList:\n",
        "\tprint (r)\n",
        "\n",
        "# Print total sets\n",
        "print (\"\\nTotal Sets: \", len(ResultList))\n"
      ],
      "execution_count": null,
      "outputs": [
        {
          "output_type": "stream",
          "name": "stdout",
          "text": [
            "(-5, 6, -2, -6, 7)\n",
            "(3, 1, -5, -6, 7)\n",
            "(-4, 7, -7, 9, -5)\n",
            "(11, 1, -12, -9, 9)\n",
            "(11, -5, -3, -6, 3)\n",
            "(-2, -3, -9, 3, 11)\n",
            "(2, 7, -9, -6, 6)\n",
            "(7, -4, -3, 2, -2)\n",
            "(7, -12, -7, 9, 3)\n",
            "(11, 1, 3, -9, -6)\n",
            "(-2, 9, -4, -5, 2)\n",
            "(9, 3, -3, -4, -5)\n",
            "(7, -4, -5, 11, -9)\n",
            "(-4, 6, -3, -2, 3)\n",
            "(-9, -5, 9, 2, 3)\n",
            "(6, -2, -7, -8, 11)\n",
            "(7, -9, -7, -2, 11)\n",
            "(-7, 7, -8, 11, -3)\n",
            "(11, -7, -3, -2, 1)\n",
            "(1, 7, -2, 2, -8)\n",
            "(6, -12, 3, -8, 11)\n",
            "(11, 3, 1, -6, -9)\n",
            "(-7, 7, -6, 9, -3)\n",
            "(-4, 11, 3, -2, -8)\n",
            "(-8, 3, -6, 2, 9)\n",
            "(6, -4, -7, 2, 3)\n",
            "(-8, 3, 9, -5, 1)\n",
            "(3, 9, 7, -12, -7)\n",
            "(9, -3, 7, -6, -7)\n",
            "\n",
            "Total Sets:  29\n"
          ]
        },
        {
          "output_type": "stream",
          "name": "stderr",
          "text": [
            "<ipython-input-5-863105f7322f>:23: DeprecationWarning: Sampling from a set deprecated\n",
            "since Python 3.9 and will be removed in a subsequent version.\n",
            "  Chromosome = r.sample(Set,SetSize)\n"
          ]
        }
      ]
    },
    {
      "cell_type": "markdown",
      "metadata": {
        "id": "stxrIcZtk4LT"
      },
      "source": [
        "---\n",
        "### **1.6 Complete Program with sorting**\n",
        "---"
      ]
    },
    {
      "cell_type": "code",
      "metadata": {
        "colab": {
          "base_uri": "https://localhost:8080/"
        },
        "outputId": "090a8658-9632-4643-fe75-693198a94ff5",
        "id": "zzblepy0k4LU"
      },
      "source": [
        "#-------------------------------------------------------------\n",
        "# Step 1: Library inclusion                             \n",
        "#-------------------------------------------------------------\n",
        "import random as r\n",
        "\n",
        "\n",
        "#-------------------------------------------------------------\n",
        "# Step 2: Parameter Setting\n",
        "#-------------------------------------------------------------\n",
        "Set         = set([-12, -3, -6, 7, 2, -2, 6, 3, 9, -7, -5, -8, 1, 11, -9, -4])\n",
        "SetSize     = 5\n",
        "ResultList  = set()    # Store Result List i.e. list of sets whose sum is zero\n",
        "Iterations  = 1000   # Number of Inerations\n",
        "\n",
        "\n",
        "#-------------------------------------------------------------\n",
        "# Step3: Start Program\n",
        "#-------------------------------------------------------------\n",
        "\n",
        "# Loop till number of Iterations\n",
        "for i in range(Iterations):\n",
        "    # Select number of elements from Set\n",
        "    Chromosome = r.sample(Set,SetSize)\n",
        "    Chromosome.sort()\n",
        "\n",
        "    # Sum the number of elements in the Chromosome\n",
        "    if sum(Chromosome) == 0:\n",
        "        ResultList.add(tuple(Chromosome))\n",
        "\n",
        "# Print all the sets whose sum is zero\n",
        "for r in ResultList:\n",
        "\tprint (r)\n",
        "\n",
        "# Print total sets\n",
        "print (\"\\nTotal Sets: \", len(ResultList))\n"
      ],
      "execution_count": null,
      "outputs": [
        {
          "output_type": "stream",
          "name": "stdout",
          "text": [
            "(-12, -6, 3, 6, 9)\n",
            "(-12, -6, 1, 6, 11)\n",
            "(-9, -8, 2, 6, 9)\n",
            "(-8, -7, -3, 7, 11)\n",
            "(-5, -4, 1, 2, 6)\n",
            "(-8, -5, -4, 6, 11)\n",
            "(-12, -5, 1, 7, 9)\n",
            "(-8, -6, 1, 6, 7)\n",
            "(-9, -7, -4, 9, 11)\n",
            "(-9, -2, 2, 3, 6)\n",
            "(-6, -4, 1, 3, 6)\n",
            "(-7, -6, 1, 3, 9)\n",
            "(-6, -4, 1, 2, 7)\n",
            "(-12, -3, 1, 3, 11)\n",
            "(-6, -5, -3, 3, 11)\n",
            "(-8, -2, 1, 3, 6)\n",
            "(-12, -2, 2, 3, 9)\n",
            "(-9, -7, -2, 7, 11)\n",
            "(-5, -3, -2, 1, 9)\n",
            "(-9, -5, -2, 7, 9)\n",
            "(-8, -4, 2, 3, 7)\n",
            "(-12, -5, 2, 6, 9)\n",
            "(-6, -5, -4, 6, 9)\n",
            "(-9, -7, 1, 6, 9)\n",
            "(-9, -5, -3, 6, 11)\n",
            "(-8, -3, 2, 3, 6)\n",
            "(-9, -4, -2, 6, 9)\n",
            "(-7, -6, -4, 6, 11)\n",
            "(-8, -7, 2, 6, 7)\n",
            "\n",
            "Total Sets:  29\n"
          ]
        },
        {
          "output_type": "stream",
          "name": "stderr",
          "text": [
            "<ipython-input-6-91cb451df7bd>:23: DeprecationWarning: Sampling from a set deprecated\n",
            "since Python 3.9 and will be removed in a subsequent version.\n",
            "  Chromosome = r.sample(Set,SetSize)\n"
          ]
        }
      ]
    },
    {
      "cell_type": "markdown",
      "metadata": {
        "id": "Kaevs6ROim18"
      },
      "source": [
        "---\n",
        "####**2. Problem Statement:**\n",
        "Find all the subsets from a set of numbers whose sum is zero.\n",
        "\n",
        "####**Constraint: Subset size must be 3 to 6 only**\n",
        "Set={-12, -3, -6, 7, 2, -2, 6, 3, 9, -7, -5, -8, 1, 11, -9, -4}\n",
        "\n",
        "---"
      ]
    },
    {
      "cell_type": "code",
      "metadata": {
        "colab": {
          "base_uri": "https://localhost:8080/"
        },
        "id": "XmPJbrOXim19",
        "outputId": "40fa3de5-bcd7-4003-eb4d-3007268064cf"
      },
      "source": [
        "#-------------------------------------------------------------\n",
        "# Step 1: Library inclusion                             \n",
        "#-------------------------------------------------------------\n",
        "import random as r\n",
        "\n",
        "\n",
        "#-------------------------------------------------------------\n",
        "# Step 2: Parameter Setting\n",
        "#-------------------------------------------------------------\n",
        "Set         = set([-12, -3, -6, 7, 2, -2, 6, 3, 9, -7, -5, -8, 1, 11, -9, -4])\n",
        "SetLB       = 3\n",
        "SetUB       = 6\n",
        "ResultList  = set()    # Store Result List i.e. list of sets whose sum is zero\n",
        "Iterations  = 1000   # Number of Inerations\n",
        "\n",
        "\n",
        "#-------------------------------------------------------------\n",
        "# Step3: Start Program\n",
        "#-------------------------------------------------------------\n",
        "\n",
        "# Loop till number of Iterations\n",
        "for i in range(Iterations):\n",
        "    # Select set size randomly\n",
        "    SetSize = r.randint(SetLB,SetUB)\n",
        "\t\n",
        "    # Select number of elements from Set\n",
        "    Chromosome = r.sample(Set,SetSize)\n",
        "    Chromosome.sort()\n",
        "\n",
        "    # Sum the number of elements in the Chromosome\n",
        "    if sum(Chromosome) == 0:\n",
        "        ResultList.add(tuple(Chromosome))\n",
        "\n",
        "# Print all the sets whose sum is zero\n",
        "for r in ResultList:\n",
        "\tprint (r)\n",
        "\n",
        "# Print total sets\n",
        "print (\"\\nTotal Sets: \", len(ResultList))\n"
      ],
      "execution_count": null,
      "outputs": [
        {
          "output_type": "stream",
          "name": "stdout",
          "text": [
            "(-12, -5, -2, 2, 6, 11)\n",
            "(-9, 2, 7)\n",
            "(-8, -6, -4, 7, 11)\n",
            "(-12, -8, 1, 3, 7, 9)\n",
            "(-8, -4, 1, 11)\n",
            "(-8, -4, -3, 6, 9)\n",
            "(-9, -3, 1, 2, 9)\n",
            "(-8, -5, -3, 2, 3, 11)\n",
            "(-12, -9, 2, 3, 7, 9)\n",
            "(-4, 1, 3)\n",
            "(-7, -2, 9)\n",
            "(-12, 1, 11)\n",
            "(-7, -6, 6, 7)\n",
            "(-5, -3, -2, 3, 7)\n",
            "(-9, -6, -3, 7, 11)\n",
            "(-6, -3, 3, 6)\n",
            "(-8, -2, 1, 3, 6)\n",
            "(-9, -7, 7, 9)\n",
            "(-6, -3, 9)\n",
            "(-9, -6, -5, 9, 11)\n",
            "(-9, -7, -3, 1, 7, 11)\n",
            "(-4, -2, 6)\n",
            "(-5, -2, 7)\n",
            "(-6, -5, 11)\n",
            "(-8, -7, 6, 9)\n",
            "(-8, -4, 3, 9)\n",
            "(-4, -3, 7)\n",
            "(-9, -3, -2, 3, 11)\n",
            "(-7, -4, -3, 1, 2, 11)\n",
            "(-8, -3, 11)\n",
            "(-8, -6, -4, 2, 7, 9)\n",
            "(-3, 1, 2)\n",
            "\n",
            "Total Sets:  32\n"
          ]
        },
        {
          "output_type": "stream",
          "name": "stderr",
          "text": [
            "<ipython-input-7-8bdee75e019c>:27: DeprecationWarning: Sampling from a set deprecated\n",
            "since Python 3.9 and will be removed in a subsequent version.\n",
            "  Chromosome = r.sample(Set,SetSize)\n"
          ]
        }
      ]
    }
  ]
}